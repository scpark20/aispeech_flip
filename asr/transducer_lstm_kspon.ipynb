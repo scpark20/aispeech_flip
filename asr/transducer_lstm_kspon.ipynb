{
 "cells": [
  {
   "cell_type": "code",
   "execution_count": 2,
   "id": "02cc8bad",
   "metadata": {},
   "outputs": [],
   "source": [
    "import os\n",
    "os.environ[\"CUDA_VISIBLE_DEVICES\"]=\"0\""
   ]
  },
  {
   "cell_type": "code",
   "execution_count": 3,
   "id": "7e7353b4",
   "metadata": {},
   "outputs": [],
   "source": [
    "import numpy as np\n",
    "import torch\n",
    "import torch.nn as nn\n",
    "import torch.nn.functional as F\n",
    "\n",
    "from dataset import KSponSpeechDataset, DataCollate\n",
    "from torch.utils.data import DataLoader\n",
    "from jamo import n_symbols, text_to_tokens, tokens_to_text"
   ]
  },
  {
   "cell_type": "markdown",
   "id": "e9b10b69",
   "metadata": {},
   "source": [
    "### Dataset"
   ]
  },
  {
   "cell_type": "code",
   "execution_count": 4,
   "id": "41539435",
   "metadata": {},
   "outputs": [
    {
     "name": "stdout",
     "output_type": "stream",
     "text": [
      "622545\n",
      "<torch.utils.data.dataloader.DataLoader object at 0x7f4aff3ed970>\n"
     ]
    }
   ],
   "source": [
    "dataset = KSponSpeechDataset(root_dir='/data/KsponSpeech')\n",
    "train_loader = DataLoader(dataset, num_workers=8, shuffle=True, batch_size=16, collate_fn=DataCollate())\n",
    "print(train_loader)"
   ]
  },
  {
   "cell_type": "markdown",
   "id": "66d906c3",
   "metadata": {},
   "source": [
    "### Model"
   ]
  },
  {
   "cell_type": "code",
   "execution_count": 5,
   "id": "677596a8",
   "metadata": {},
   "outputs": [],
   "source": [
    "class Encoder(nn.Module):\n",
    "    def __init__(self, input_channels, hidden_channels, output_channels, num_layers):\n",
    "        super().__init__()\n",
    "        self.conv = nn.Sequential(nn.Conv1d(input_channels, hidden_channels, kernel_size=3, padding=1),\n",
    "                                  nn.BatchNorm1d(hidden_channels),\n",
    "                                  nn.ReLU(),\n",
    "                                  nn.Conv1d(hidden_channels, hidden_channels, kernel_size=1))\n",
    "        self.lstm = nn.LSTM(input_size=hidden_channels, hidden_size=hidden_channels//2, num_layers=num_layers, \n",
    "                            batch_first=True, dropout=0.1, bidirectional=True)\n",
    "        self.out_layer = nn.Linear(hidden_channels, output_channels)\n",
    "        \n",
    "    def forward(self, inputs, input_lengths):\n",
    "        # inputs : (B, T, C)\n",
    "        # input_lengths : (B)\n",
    "        \n",
    "        # (B, T, C)\n",
    "        x = self.conv(inputs.transpose(1, 2)).transpose(1, 2)\n",
    "        x = nn.utils.rnn.pack_padded_sequence(x, input_lengths.cpu(), batch_first=True, enforce_sorted=False)\n",
    "        x, _ = self.lstm(x)\n",
    "        x, _ = nn.utils.rnn.pad_packed_sequence(x, batch_first=True)\n",
    "        x = self.out_layer(x)\n",
    "        \n",
    "        return x\n",
    "        "
   ]
  },
  {
   "cell_type": "code",
   "execution_count": 6,
   "id": "338e50fe",
   "metadata": {},
   "outputs": [],
   "source": [
    "class Decoder(nn.Module):\n",
    "    def __init__(self, n_labels, embedding_size, hidden_channels, output_channels, num_layers):\n",
    "        super().__init__()\n",
    "        self.embedding = nn.Embedding(n_labels, embedding_size)\n",
    "        self.lstm = nn.LSTM(input_size=embedding_size, hidden_size=hidden_channels, num_layers=num_layers,\n",
    "                            batch_first=True, dropout=0.1, bidirectional=False)\n",
    "        self.out_layer = nn.Linear(hidden_channels, output_channels)\n",
    "        \n",
    "    def forward(self, targets, target_lengths):\n",
    "        # targets : (B, U)\n",
    "        # target_lengths : (B)\n",
    "        \n",
    "        # (B, U, C)\n",
    "        x = self.embedding(targets)\n",
    "        x = nn.utils.rnn.pack_padded_sequence(x, target_lengths.cpu(), batch_first=True, enforce_sorted=False)\n",
    "        x, _ = self.lstm(x)\n",
    "        x, _ = nn.utils.rnn.pad_packed_sequence(x, batch_first=True)\n",
    "        x = self.out_layer(x)\n",
    "        \n",
    "        return x\n",
    "    \n",
    "    def inference(self, target, state):\n",
    "        # target : (B, 1)\n",
    "        \n",
    "        # (B, 1, C)\n",
    "        x = self.embedding(target)\n",
    "        x, state = self.lstm(x, state)\n",
    "        x = self.out_layer(x)\n",
    "        \n",
    "        # (B, C), state\n",
    "        return x[:, 0], state"
   ]
  },
  {
   "cell_type": "code",
   "execution_count": 7,
   "id": "40a3f95f",
   "metadata": {},
   "outputs": [],
   "source": [
    "class JointNetwork(nn.Module):\n",
    "    def __init__(self, output_channels, hidden_channels, n_labels):\n",
    "        super().__init__()\n",
    "        \n",
    "        self.out_layer = nn.Sequential(nn.Linear(output_channels*2, hidden_channels),\n",
    "                                   nn.Tanh(),\n",
    "                                   nn.Linear(hidden_channels, n_labels))\n",
    "        \n",
    "    def forward(self, encoded, decoded):\n",
    "        # encoded : (B, T, C)\n",
    "        # decoded : (B, U, C)\n",
    "        \n",
    "        t = encoded.size(1)\n",
    "        u = decoded.size(1)\n",
    "        \n",
    "        # (B, T, 1, C)\n",
    "        encoded = encoded.unsqueeze(dim=2)\n",
    "        # (B, T, U, C)\n",
    "        encoded = encoded.repeat([1, 1, u, 1])\n",
    "        \n",
    "        # (B, 1, U, C)\n",
    "        decoded = decoded.unsqueeze(dim=1)\n",
    "        # (B, T, U, C)\n",
    "        decoded = decoded.repeat([1, t, 1, 1])\n",
    "        \n",
    "        # (B, T, U, C)\n",
    "        y = torch.cat([encoded, decoded], dim=3)\n",
    "        # (B, T, U, C)\n",
    "        y = self.out_layer(y)\n",
    "        \n",
    "        return y\n",
    "    \n",
    "    def inference(self, encoded, decoded):\n",
    "        # encoded : (1, C)\n",
    "        # decoded : (1, C)\n",
    "        \n",
    "        # (1, C)\n",
    "        y = torch.cat([encoded, decoded], dim=1)\n",
    "        # (1, C)\n",
    "        y = self.out_layer(y)\n",
    "        \n",
    "        return y\n",
    "    "
   ]
  },
  {
   "cell_type": "code",
   "execution_count": 75,
   "id": "fc560f74",
   "metadata": {},
   "outputs": [],
   "source": [
    "import warp_rnnt\n",
    "import matplotlib.pyplot as plt\n",
    "\n",
    "class Model(nn.Module):\n",
    "    def __init__(self, input_channels,\n",
    "                       n_labels,\n",
    "                       embedding_size,\n",
    "                       encoder_hidden_channels,\n",
    "                       decoder_hidden_channels,\n",
    "                       joint_hidden_channels,\n",
    "                       output_channels, \n",
    "                       encoder_num_layers,\n",
    "                       decoder_num_layers): \n",
    "        super().__init__()\n",
    "        self.encoder = Encoder(input_channels, encoder_hidden_channels, output_channels, encoder_num_layers)\n",
    "        self.decoder = Decoder(n_labels, embedding_size, decoder_hidden_channels, output_channels, decoder_num_layers)\n",
    "        self.joint = JointNetwork(output_channels, joint_hidden_channels, n_labels)\n",
    "\n",
    "    def forward(self, inputs, input_lengths, targets, target_lengths):\n",
    "        # inputs : (B, T, C)\n",
    "        # input_lengths : (B)\n",
    "        # targets : (B, L)\n",
    "        # target_lengths : (B)\n",
    "        \n",
    "        # (B, T, C)\n",
    "        encoded = self.encoder(inputs, input_lengths)\n",
    "        # (B, 1+U, C)\n",
    "        decoded = self.decoder(F.pad(targets, (1, 0)), target_lengths+1)\n",
    "        # (B, T, 1+U, n_labels)\n",
    "        outputs = self.joint(encoded, decoded)\n",
    "        # (B, T, 1+U, n_labels)\n",
    "        log_probs = outputs.log_softmax(dim=3)\n",
    "        # (,)\n",
    "        loss = warp_rnnt.rnnt_loss(log_probs, targets.int(), input_lengths.int(), target_lengths.int(), average_frames=True, reduction='mean', gather=True)\n",
    "        \n",
    "        outputs = {'loss': loss,\n",
    "                   'log_probs': log_probs}\n",
    "        \n",
    "        return outputs\n",
    "    \n",
    "    def inference(self, inputs, input_lengths):\n",
    "        # inputs : (1, T, C)\n",
    "        # input_lengths : (1)\n",
    "        \n",
    "        # (1, T, C)\n",
    "        encoded = self.encoder(inputs, input_lengths)\n",
    "        decoded = None\n",
    "        decoder_state = None\n",
    "        # (1, 1)\n",
    "        label = torch.IntTensor([[0]]).cuda()\n",
    "        label_list = [label]\n",
    "        \n",
    "        for t in range(0, input_lengths[0].item()):\n",
    "            for _ in range(5): # 한 time step에서 출력할 수 있는 최대 label갯수 지정\n",
    "                if decoded is None:\n",
    "                    decoded, new_decoder_state = self.decoder.inference(label_list[-1], decoder_state)\n",
    "                # (1, C)\n",
    "                output = self.joint.inference(encoded[:, t], decoded)\n",
    "                # (1, C)\n",
    "                probability = torch.softmax(output, dim=1)\n",
    "                # (1, 1)\n",
    "                label = torch.argmax(probability, dim=1, keepdim=True)\n",
    "                if label[0, 0] != 0:\n",
    "                    label_list.append(label)\n",
    "                    decoder_state = new_decoder_state\n",
    "                    decoded = None\n",
    "                else:\n",
    "                    break\n",
    "        \n",
    "        # (1, T)\n",
    "        labels = torch.cat(label_list, dim=1)\n",
    "        \n",
    "        return labels\n",
    "    \n",
    "    def beam_search(self, inputs, input_lengths, W=10):\n",
    "        # (1, T, C)\n",
    "        encoded = self.encoder(inputs, input_lengths)\n",
    "        B = [{'score': 0.0, 'labels': [0], 'state': None}]\n",
    "        \n",
    "        for t in range(input_lengths[0].item()):\n",
    "            A = B\n",
    "            B = []\n",
    "            \n",
    "            # While B contains less than W (beam width) elements\n",
    "            # more probablie than the most probable in A\n",
    "            while True:\n",
    "                A_max = max(A, key=lambda x:x['score'])\n",
    "                A.remove(A_max)\n",
    "                \n",
    "                token = torch.IntTensor([[A_max['labels'][-1]]]).cuda()\n",
    "                decoded, new_state = self.decoder.inference(token, A_max['state'])\n",
    "                # (1, C)\n",
    "                output = self.joint.inference(encoded[:, t], decoded)\n",
    "                # (1, C)\n",
    "                log_prob = torch.log_softmax(output, dim=1)\n",
    "                \n",
    "                for k in range(log_prob.shape[1]):\n",
    "                    if k == 0:\n",
    "                        hypothesis = {'score': A_max['score'] + log_prob[0, 0].item(),\n",
    "                                      'labels': A_max['labels'][:],\n",
    "                                      'state': A_max['state']}\n",
    "                        B.append(hypothesis)\n",
    "                    else:\n",
    "                        hypothesis = {'score': A_max['score'] + log_prob[0, k].item(),\n",
    "                                      'labels': A_max['labels'][:] + [k],\n",
    "                                      'state': new_state}\n",
    "                        A.append(hypothesis)\n",
    "                \n",
    "                # While loop exist condition\n",
    "                A_max = max(A, key=lambda x:x['score'])\n",
    "                B_candidate = [h for h in B if h['score'] > A_max['score']]\n",
    "                if len(B_candidate) >= W:\n",
    "                    B = B_candidate\n",
    "                    break\n",
    "        \n",
    "        B = sorted(B, key=lambda x: x['score'], reverse=True)[:W]\n",
    "        \n",
    "        return B\n",
    "                "
   ]
  },
  {
   "cell_type": "markdown",
   "id": "5d4e522f",
   "metadata": {},
   "source": [
    "### Logger"
   ]
  },
  {
   "cell_type": "code",
   "execution_count": 76,
   "id": "146f85ea",
   "metadata": {},
   "outputs": [],
   "source": [
    "from utils import sizeof_fmt, Logger"
   ]
  },
  {
   "cell_type": "code",
   "execution_count": 77,
   "id": "0ec22f9a",
   "metadata": {},
   "outputs": [
    {
     "name": "stdout",
     "output_type": "stream",
     "text": [
      "mkdir: cannot create directory ‘save’: File exists\n",
      "<utils.Logger object at 0x7f4c687c5580>\n"
     ]
    }
   ],
   "source": [
    "!mkdir save\n",
    "save_dir = 'save/transducer_lstm_kspon'\n",
    "logger = Logger(save_dir=save_dir, new=False)\n",
    "print(logger)"
   ]
  },
  {
   "cell_type": "code",
   "execution_count": 78,
   "id": "5fbb7d90",
   "metadata": {},
   "outputs": [
    {
     "name": "stdout",
     "output_type": "stream",
     "text": [
      "data.json   save_15000\tsave_25000  save_40000\tsave_41172  save_5000\r\n",
      "save_0\t    save_20000\tsave_30000  save_40191\tsave_43400\r\n",
      "save_10000  save_23352\tsave_35000  save_40790\tsave_45000\r\n"
     ]
    }
   ],
   "source": [
    "!ls $save_dir"
   ]
  },
  {
   "cell_type": "markdown",
   "id": "2e081a26",
   "metadata": {},
   "source": [
    "### Init Model"
   ]
  },
  {
   "cell_type": "code",
   "execution_count": 79,
   "id": "591e9e82",
   "metadata": {},
   "outputs": [
    {
     "name": "stdout",
     "output_type": "stream",
     "text": [
      "Model size 36.5MiB\n",
      "loaded : 43400\n",
      "loaded 43400\n"
     ]
    }
   ],
   "source": [
    "model = Model(input_channels=80,\n",
    "               n_labels=n_symbols,\n",
    "               embedding_size=256,\n",
    "               encoder_hidden_channels=512,\n",
    "               decoder_hidden_channels=512,\n",
    "               joint_hidden_channels=512,\n",
    "               output_channels=256, \n",
    "               encoder_num_layers=3,\n",
    "               decoder_num_layers=2)\n",
    "model = model.cuda()\n",
    "step = 43400\n",
    "\n",
    "size = sizeof_fmt(4 * sum(p.numel() for p in model.parameters()))\n",
    "print(f\"Model size {size}\")\n",
    "\n",
    "optimizer = torch.optim.Adam(model.parameters(), lr=1e-4, weight_decay=1e-5)\n",
    "\n",
    "if True:\n",
    "    model, optimizer, step = logger.load(step, model, optimizer)\n",
    "    print('loaded', step)"
   ]
  },
  {
   "cell_type": "code",
   "execution_count": 80,
   "id": "c910568a",
   "metadata": {},
   "outputs": [],
   "source": [
    "def to_cuda(batch):\n",
    "    batch['audio'] = batch['audio'].cuda()\n",
    "    batch['audio_lengths'] = batch['audio_lengths'].cuda()\n",
    "    batch['text'] = batch['text'].cuda()\n",
    "    batch['text_lengths'] = batch['text_lengths'].cuda()\n",
    "    \n",
    "    return batch"
   ]
  },
  {
   "cell_type": "markdown",
   "id": "8e69e9b7",
   "metadata": {},
   "source": [
    "### Train"
   ]
  },
  {
   "cell_type": "code",
   "execution_count": 85,
   "id": "8405c4d1",
   "metadata": {
    "scrolled": true
   },
   "outputs": [
    {
     "data": {
      "image/png": "[encoded data removed]",
      "text/plain": [
       "<Figure size 1296x216 with 1 Axes>"
      ]
     },
     "metadata": {},
     "output_type": "display_data"
    },
    {
     "name": "stdout",
     "output_type": "stream",
     "text": [
      "Ground Truth\n",
      "주원 나오는 드라마 각시탈인가?\n",
      "Greedy Search\n",
      "\u0000주원 나오는 드라마 각시 탈인가\n",
      "Beam Search\n",
      "\u0000주원 나오는 드라마 각시 탈인가 score : -25.653615780852306\n",
      "\u0000주원 나오는 드라마 각시 탈인가 score : -25.990869781214315\n",
      "\u0000주원 나오는 드라마 각시 탈인가 score : -26.10609991147885\n"
     ]
    }
   ],
   "source": [
    "from IPython import display\n",
    "import librosa.display\n",
    "import matplotlib.pyplot as plt\n",
    "\n",
    "stop = True\n",
    "while True: \n",
    "    for batch in train_loader:\n",
    "        model.train()\n",
    "        batch = to_cuda(batch)\n",
    "        \n",
    "        model.zero_grad()\n",
    "        outputs = model(batch['audio'], batch['audio_lengths'], batch['text'], batch['text_lengths'])\n",
    "        outputs['loss'].backward()\n",
    "        optimizer.step()\n",
    "        \n",
    "        if step % 10 == 0:\n",
    "            print(step, outputs['loss'].item())\n",
    "            \n",
    "        if step % 100 == 0:\n",
    "            display.clear_output()\n",
    "            \n",
    "            plt.figure(figsize=[18, 3])\n",
    "            plt.title('Mel-spectrogram')\n",
    "            librosa.display.specshow(batch['audio'][0].data.cpu().numpy().T)\n",
    "            plt.show()\n",
    "            \n",
    "            print('Ground Truth')\n",
    "            print(tokens_to_text(batch['text'][0, :batch['text_lengths'][0]].cpu().numpy()))\n",
    "\n",
    "            model.eval()\n",
    "            with torch.no_grad():\n",
    "                tokens = model.inference(batch['audio'][0:1], batch['audio_lengths'][0:1])\n",
    "                _tokens = tokens[0].data.cpu().numpy()\n",
    "                print('Greedy Search')\n",
    "                print(tokens_to_text(_tokens))\n",
    "                \n",
    "                hypothesis_list = model.beam_search(batch['audio'][0:1], batch['audio_lengths'][0:1], W=3)\n",
    "                print('Beam Search')\n",
    "                for h in hypothesis_list:\n",
    "                    print(tokens_to_text(h['labels']), 'score :', h['score'])\n",
    "                    \n",
    "            logger.log(step, 'loss', outputs['loss'].item())\n",
    "            if stop:\n",
    "                break\n",
    "                    \n",
    "        if step % 5000 == 0:\n",
    "            logger.save(step, model, optimizer)\n",
    "    \n",
    "        step += 1\n",
    "        \n",
    "    if stop:\n",
    "        break\n"
   ]
  },
  {
   "cell_type": "code",
   "execution_count": null,
   "id": "3c5245ab",
   "metadata": {},
   "outputs": [],
   "source": [
    "logger.save(step, model, optimizer)"
   ]
  }
 ],
 "metadata": {
  "kernelspec": {
   "display_name": "Python 3",
   "language": "python",
   "name": "python3"
  },
  "language_info": {
   "codemirror_mode": {
    "name": "ipython",
    "version": 3
   },
   "file_extension": ".py",
   "mimetype": "text/x-python",
   "name": "python",
   "nbconvert_exporter": "python",
   "pygments_lexer": "ipython3",
   "version": "3.8.8"
  }
 },
 "nbformat": 4,
 "nbformat_minor": 5
}
