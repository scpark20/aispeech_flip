{
 "cells": [
  {
   "cell_type": "code",
   "execution_count": 3,
   "id": "9a0412f7",
   "metadata": {},
   "outputs": [],
   "source": [
    "import torch\n",
    "import torch.nn as nn\n",
    "import torch.nn.functional as F"
   ]
  },
  {
   "cell_type": "code",
   "execution_count": 5,
   "id": "a04bb425",
   "metadata": {},
   "outputs": [],
   "source": [
    "import numpy as np\n",
    "import matplotlib.pyplot as plt\n",
    "import librosa\n",
    "import librosa.display\n",
    "from os import listdir\n",
    "from os.path import isdir, isfile, join\n",
    "from torch.utils.data import DataLoader\n",
    "from jamo import text_to_tokens, tokens_to_text, n_symbols, refine_ksponspeech"
   ]
  },
  {
   "cell_type": "markdown",
   "id": "1a1ec3cc",
   "metadata": {},
   "source": [
    "### KsponSpeech 리스트 만들기"
   ]
  },
  {
   "cell_type": "code",
   "execution_count": 7,
   "id": "016a37c1",
   "metadata": {
    "scrolled": false
   },
   "outputs": [
    {
     "name": "stdout",
     "output_type": "stream",
     "text": [
      "file 갯수 : 622545\n",
      "{'txt': '/data/KsponSpeech/KsponSpeech_01/KsponSpeech_0011/KsponSpeech_010694.txt', 'pcm': '/data/KsponSpeech/KsponSpeech_01/KsponSpeech_0011/KsponSpeech_010694.pcm'}\n",
      "{'txt': '/data/KsponSpeech/KsponSpeech_01/KsponSpeech_0011/KsponSpeech_010360.txt', 'pcm': '/data/KsponSpeech/KsponSpeech_01/KsponSpeech_0011/KsponSpeech_010360.pcm'}\n",
      "{'txt': '/data/KsponSpeech/KsponSpeech_01/KsponSpeech_0011/KsponSpeech_010406.txt', 'pcm': '/data/KsponSpeech/KsponSpeech_01/KsponSpeech_0011/KsponSpeech_010406.pcm'}\n",
      "{'txt': '/data/KsponSpeech/KsponSpeech_01/KsponSpeech_0011/KsponSpeech_010019.txt', 'pcm': '/data/KsponSpeech/KsponSpeech_01/KsponSpeech_0011/KsponSpeech_010019.pcm'}\n",
      "{'txt': '/data/KsponSpeech/KsponSpeech_01/KsponSpeech_0011/KsponSpeech_010508.txt', 'pcm': '/data/KsponSpeech/KsponSpeech_01/KsponSpeech_0011/KsponSpeech_010508.pcm'}\n"
     ]
    }
   ],
   "source": [
    "def get_file_list(root_dir):\n",
    "    file_list = []\n",
    "    files = [join(root_dir, f) for f in listdir(root_dir) if join(root_dir, f)]\n",
    "    for file in files:\n",
    "        if isdir(file):\n",
    "            ret_list = get_file_list(file)\n",
    "            file_list.extend(ret_list)\n",
    "        elif isfile(file):\n",
    "            if file.endswith('txt'):\n",
    "                pcm_file = file[:-3] + 'pcm'\n",
    "                file_list.append({'txt': file, 'pcm': pcm_file})\n",
    "\n",
    "    return file_list\n",
    "\n",
    "file_list = get_file_list('/data/KsponSpeech')\n",
    "print('file 갯수 :', len(file_list))\n",
    "for file in file_list[:5]:\n",
    "    print(file)"
   ]
  },
  {
   "cell_type": "markdown",
   "id": "08acf8fc",
   "metadata": {},
   "source": [
    "### txt 파일 보기"
   ]
  },
  {
   "cell_type": "code",
   "execution_count": 8,
   "id": "8a069b34",
   "metadata": {
    "scrolled": true
   },
   "outputs": [
    {
     "name": "stdout",
     "output_type": "stream",
     "text": [
      "그거랑 또 달라. 그리고 또 그이 형법이 또 와/ b/ 너무 열 받더라고 그리고 이제 내가 인강+ 인강도 듣고, 혼자 하니까. 방법을 모르니까. 통으로 외우는 거야. b/ 그러니까 시간이 너무 오래 걸려. 나 아직 반도+ 반에 반도 못 했을걸?\n",
      "\n"
     ]
    }
   ],
   "source": [
    "file = file_list[0]['txt']\n",
    "with open(file, 'r', encoding='cp949') as f:\n",
    "    l = f.read()\n",
    "    print(l)"
   ]
  },
  {
   "cell_type": "markdown",
   "id": "fa981848",
   "metadata": {},
   "source": [
    "###  텍스트 정제하기"
   ]
  },
  {
   "cell_type": "code",
   "execution_count": 10,
   "id": "020323f6",
   "metadata": {},
   "outputs": [
    {
     "name": "stdout",
     "output_type": "stream",
     "text": [
      "그거랑 또 달라. 그리고 또 그이 형법이 또 와 너무 열 받더라고 그리고 이제 내가 인강 인강도 듣고, 혼자 하니까. 방법을 모르니까. 통으로 외우는 거야. 그러니까 시간이 너무 오래 걸려. 나 아직 반도 반에 반도 못 했을걸?\n"
     ]
    }
   ],
   "source": [
    "l = refine_ksponspeech(l)\n",
    "print(l)    "
   ]
  },
  {
   "cell_type": "markdown",
   "id": "632d6057",
   "metadata": {},
   "source": [
    "### token으로 바꾸기"
   ]
  },
  {
   "cell_type": "code",
   "execution_count": 11,
   "id": "6ad1ba1a",
   "metadata": {},
   "outputs": [
    {
     "name": "stdout",
     "output_type": "stream",
     "text": [
      "[257 295 256 257 289 256 260 287 264 256  32 272 291 256  32 259 287 260\n",
      " 256 260 287 256  46  32 257 295 256 260 296 256 257 291 256  32 272 291\n",
      " 256  32 257 295 256 264 296 256  32 270 290 264 256 262 289 262 256 264\n",
      " 296 256  32 272 291 256  32 264 301 256  32 258 289 256 261 293 256  32\n",
      " 264 290 260 256  32 262 287 259 256 259 289 256 260 287 256 257 291 256\n",
      "  32 257 295 256 260 296 256 257 291 256  32 264 296 256 265 299 256  32\n",
      " 258 297 256 257 287 256  32 264 296 258 256 257 287 264 256  32 264 296\n",
      " 258 256 257 287 264 256 259 291 256  32 259 295 259 256 257 291 256  44\n",
      "  32 270 291 258 256 265 287 256  32 270 287 256 258 296 256 271 287 256\n",
      "  46  32 262 287 264 256 262 289 262 256 264 295 260 256  32 261 291 256\n",
      " 260 295 256 258 296 256 271 287 256  46  32 268 291 264 256 264 295 256\n",
      " 260 291 256  32 264 303 256 264 293 256 258 295 258 256  32 257 289 256\n",
      " 264 288 256  46  32 257 295 256 260 289 256 258 296 256 271 287 256  32\n",
      " 263 296 256 257 287 258 256 264 296 256  32 258 289 256 261 293 256  32\n",
      " 264 291 256 260 297 256  32 257 289 260 256 260 290 256  46  32 258 287\n",
      " 256  32 264 287 256 265 296 257 256  32 262 287 258 256 259 291 256  32\n",
      " 262 287 258 256 264 299 256  32 262 287 258 256 259 291 256  32 261 291\n",
      " 263 256  32 270 297 274 256 264 295 260 256 257 289 260 256  63]\n"
     ]
    }
   ],
   "source": [
    "tokens = text_to_tokens(l)\n",
    "print(tokens)"
   ]
  },
  {
   "cell_type": "markdown",
   "id": "6ae3abfb",
   "metadata": {},
   "source": [
    "### SOS, EOS 추가하기 (optional)"
   ]
  },
  {
   "cell_type": "code",
   "execution_count": 7,
   "id": "a35ade30",
   "metadata": {},
   "outputs": [
    {
     "name": "stdout",
     "output_type": "stream",
     "text": [
      "[  0 257 295 256 257 289 256 260 287 264 256  32 272 291 256  32 259 287\n",
      " 260 256 260 287 256  46  32 257 295 256 260 296 256 257 291 256  32 272\n",
      " 291 256  32 257 295 256 264 296 256  32 270 290 264 256 262 289 262 256\n",
      " 264 296 256  32 272 291 256  32 264 301 256  32 258 289 256 261 293 256\n",
      "  32 264 290 260 256  32 262 287 259 256 259 289 256 260 287 256 257 291\n",
      " 256  32 257 295 256 260 296 256 257 291 256  32 264 296 256 265 299 256\n",
      "  32 258 297 256 257 287 256  32 264 296 258 256 257 287 264 256  32 264\n",
      " 296 258 256 257 287 264 256 259 291 256  32 259 295 259 256 257 291 256\n",
      "  44  32 270 291 258 256 265 287 256  32 270 287 256 258 296 256 271 287\n",
      " 256  46  32 262 287 264 256 262 289 262 256 264 295 260 256  32 261 291\n",
      " 256 260 295 256 258 296 256 271 287 256  46  32 268 291 264 256 264 295\n",
      " 256 260 291 256  32 264 303 256 264 293 256 258 295 258 256  32 257 289\n",
      " 256 264 288 256  46  32 257 295 256 260 289 256 258 296 256 271 287 256\n",
      "  32 263 296 256 257 287 258 256 264 296 256  32 258 289 256 261 293 256\n",
      "  32 264 291 256 260 297 256  32 257 289 260 256 260 290 256  46  32 258\n",
      " 287 256  32 264 287 256 265 296 257 256  32 262 287 258 256 259 291 256\n",
      "  32 262 287 258 256 264 299 256  32 262 287 258 256 259 291 256  32 261\n",
      " 291 263 256  32 270 297 274 256 264 295 260 256 257 289 260 256  63   0]\n"
     ]
    }
   ],
   "source": [
    "tokens = np.pad(tokens, (1, 1), 'constant', constant_values=(0, 0))\n",
    "print(tokens)"
   ]
  },
  {
   "cell_type": "markdown",
   "id": "4a8d1e10",
   "metadata": {},
   "source": [
    "### Pytorch dataset 만들기"
   ]
  },
  {
   "cell_type": "code",
   "execution_count": 12,
   "id": "993eae22",
   "metadata": {},
   "outputs": [],
   "source": [
    "class KSponSpeechDataset(torch.utils.data.Dataset):\n",
    "    def __init__(self, root_dir):\n",
    "        self.file_list = self._get_file_list(root_dir)\n",
    "        print(len(self.file_list))\n",
    "        \n",
    "    def _get_file_list(self, root_dir):\n",
    "        file_list = []\n",
    "        files = [join(root_dir, f) for f in listdir(root_dir) if join(root_dir, f)]\n",
    "        for file in files:\n",
    "            if isdir(file):\n",
    "                ret_list = self._get_file_list(file)\n",
    "                file_list.extend(ret_list)\n",
    "            elif isfile(file):\n",
    "                if file.endswith('txt'):\n",
    "                    pcm_file = file[:-3] + 'pcm'\n",
    "                    file_list.append({'txt': file, 'pcm': pcm_file})\n",
    "\n",
    "        return file_list\n",
    "    \n",
    "    def _get_audio(self, file):\n",
    "        with open(file, 'rb') as f:\n",
    "            wav = np.fromfile(f, dtype=np.int16)\n",
    "            wav = wav / 32768.\n",
    "            S = librosa.feature.melspectrogram(wav, sr=16000, n_fft=1024, n_mels=80, hop_length=256)\n",
    "            S = (np.log10(S + 1e-5) - np.log10(1e-5)) / -np.log10(1e-5)\n",
    "            \n",
    "        return S.T\n",
    "            \n",
    "    def _get_text(self, file):\n",
    "        with open(file, 'r', encoding='cp949') as f:\n",
    "            l = f.read()\n",
    "            l = refine_ksponspeech(l)\n",
    "            array = text_to_tokens(l)\n",
    "        array = np.pad(array, (1, 1), 'constant', constant_values=(0, 0))\n",
    "        return array\n",
    "        \n",
    "    def __getitem__(self, index):\n",
    "        while True:\n",
    "            text = self._get_text(self.file_list[index]['txt'])\n",
    "            if len(text) > 180:\n",
    "                index = (index + 1) % self.__len__()\n",
    "                continue\n",
    "\n",
    "            audio = self._get_audio(self.file_list[index]['pcm'])    \n",
    "            if len(audio) > 450:\n",
    "                index = (index + 1) % self.__len__()\n",
    "                continue\n",
    "                \n",
    "            break\n",
    "        \n",
    "        return torch.FloatTensor(audio), torch.LongTensor(text)\n",
    "        \n",
    "    def __len__(self):\n",
    "        return len(self.file_list)\n",
    "    \n",
    "class DataCollate():\n",
    "    def __call__(self, batch):\n",
    "        audio_lengths = []\n",
    "        text_lengths = []\n",
    "        for audio, text in batch:\n",
    "            audio_lengths.append(len(audio))\n",
    "            text_lengths.append(len(text))\n",
    "            \n",
    "        audio_max_length = max(audio_lengths)\n",
    "        text_max_length = max(text_lengths)\n",
    "        \n",
    "        audio_padded = torch.FloatTensor(len(batch), audio_max_length, 80)\n",
    "        audio_padded.zero_()\n",
    "        audio_lengths = torch.from_numpy(np.array(audio_lengths)).long()\n",
    "        \n",
    "        text_padded = torch.LongTensor(len(batch), text_max_length)\n",
    "        text_padded.zero_()\n",
    "        text_lengths = torch.from_numpy(np.array(text_lengths)).long()\n",
    "        \n",
    "        for i, (audio, text) in enumerate(batch):\n",
    "            audio_padded[i, :len(audio)] = audio\n",
    "            text_padded[i, :len(text)] = text\n",
    "            \n",
    "        outputs = {'audio': audio_padded,\n",
    "                   'audio_lengths': audio_lengths,\n",
    "                   'text': text_padded,\n",
    "                   'text_lengths': text_lengths\n",
    "                  }\n",
    "        \n",
    "        return outputs"
   ]
  },
  {
   "cell_type": "code",
   "execution_count": 13,
   "id": "18b48fc7",
   "metadata": {},
   "outputs": [
    {
     "name": "stdout",
     "output_type": "stream",
     "text": [
      "622545\n",
      "<torch.utils.data.dataloader.DataLoader object at 0x7f73283a98b0>\n"
     ]
    }
   ],
   "source": [
    "dataset = KSponSpeechDataset(root_dir='/data/KsponSpeech')\n",
    "train_loader = DataLoader(dataset, num_workers=8, shuffle=True, batch_size=64, collate_fn=DataCollate())\n",
    "print(train_loader)"
   ]
  },
  {
   "cell_type": "markdown",
   "id": "4d6bfafd",
   "metadata": {},
   "source": [
    "### batch data 보기"
   ]
  },
  {
   "cell_type": "code",
   "execution_count": 14,
   "id": "2cefa74c",
   "metadata": {},
   "outputs": [],
   "source": [
    "for batch in train_loader:\n",
    "    audio = batch['audio'].data.cpu().numpy()\n",
    "    audio_lengths = batch['audio_lengths'].data.cpu().numpy()\n",
    "    text = batch['text'].data.cpu().numpy()\n",
    "    text_lengths = batch['text_lengths'].data.cpu().numpy()\n",
    "    break"
   ]
  },
  {
   "cell_type": "code",
   "execution_count": 15,
   "id": "12a1b042",
   "metadata": {},
   "outputs": [
    {
     "name": "stdout",
     "output_type": "stream",
     "text": [
      "(64, 438, 80)\n"
     ]
    },
    {
     "data": {
      "image/png": "[encoded data removed]",
      "text/plain": [
       "<Figure size 1296x216 with 2 Axes>"
      ]
     },
     "metadata": {
      "needs_background": "light"
     },
     "output_type": "display_data"
    }
   ],
   "source": [
    "print(audio.shape)\n",
    "plt.figure(figsize=[18, 3])\n",
    "librosa.display.specshow(audio[0].T)\n",
    "plt.colorbar()\n",
    "plt.show()"
   ]
  },
  {
   "cell_type": "code",
   "execution_count": 25,
   "id": "73df408d",
   "metadata": {},
   "outputs": [
    {
     "name": "stdout",
     "output_type": "stream",
     "text": [
      "(64,)\n",
      "[195  88 213 200 298 105 151 264 269 135  94 117 171 295 160  80 314 286\n",
      " 103 167 230 170 337 169 261 257 214 166 337 377 322 127 130 317 120 395\n",
      " 326 383 317 415 420 410 407 364 199 223 146 163 423 131 209 129 134  73\n",
      " 405 191 215 221 227 248  80 115 161 163]\n"
     ]
    }
   ],
   "source": [
    "print(audio_lengths.shape)\n",
    "print(audio_lengths)"
   ]
  },
  {
   "cell_type": "code",
   "execution_count": 26,
   "id": "5ae5fa55",
   "metadata": {},
   "outputs": [
    {
     "name": "stdout",
     "output_type": "stream",
     "text": [
      "(64, 145)\n",
      "[  0 262 287 261 256  32 264 290 260 256 259 293 256 263 296 256 264 299\n",
      " 256  63   0   0   0   0   0   0   0   0   0   0   0   0   0   0   0   0\n",
      "   0   0   0   0   0   0   0   0   0   0   0   0   0   0   0   0   0   0\n",
      "   0   0   0   0   0   0   0   0   0   0   0   0   0   0   0   0   0   0\n",
      "   0   0   0   0   0   0   0   0   0   0   0   0   0   0   0   0   0   0\n",
      "   0   0   0   0   0   0   0   0   0   0   0   0   0   0   0   0   0   0\n",
      "   0   0   0   0   0   0   0   0   0   0   0   0   0   0   0   0   0   0\n",
      "   0   0   0   0   0   0   0   0   0   0   0   0   0   0   0   0   0   0\n",
      "   0]\n"
     ]
    }
   ],
   "source": [
    "print(text.shape)\n",
    "print(text[0])"
   ]
  },
  {
   "cell_type": "code",
   "execution_count": 27,
   "id": "401f0b43",
   "metadata": {},
   "outputs": [
    {
     "name": "stdout",
     "output_type": "stream",
     "text": [
      "(64,)\n",
      "[ 21  17  31  67  76  10  59  47  43  41  31  24  65  85  57  15  59  60\n",
      "  27  42 116  42  80  38  64  53  62  46  97  75  77  49  40  62  32 110\n",
      "  86 125 145  34  41 126 130  76  60  87  52  74 129  42  46  28  30  14\n",
      "  82  24  94  24  25  77  17  18  61  54]\n"
     ]
    }
   ],
   "source": [
    "print(text_lengths.shape)\n",
    "print(text_lengths)"
   ]
  }
 ],
 "metadata": {
  "kernelspec": {
   "display_name": "Python 3",
   "language": "python",
   "name": "python3"
  },
  "language_info": {
   "codemirror_mode": {
    "name": "ipython",
    "version": 3
   },
   "file_extension": ".py",
   "mimetype": "text/x-python",
   "name": "python",
   "nbconvert_exporter": "python",
   "pygments_lexer": "ipython3",
   "version": "3.8.8"
  }
 },
 "nbformat": 4,
 "nbformat_minor": 5
}
