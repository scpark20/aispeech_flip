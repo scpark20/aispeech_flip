{
 "cells": [
  {
   "cell_type": "code",
   "execution_count": 1,
   "id": "02cc8bad",
   "metadata": {},
   "outputs": [],
   "source": [
    "import os\n",
    "os.environ[\"CUDA_VISIBLE_DEVICES\"]=\"4\""
   ]
  },
  {
   "cell_type": "code",
   "execution_count": 2,
   "id": "7e7353b4",
   "metadata": {},
   "outputs": [],
   "source": [
    "import numpy as np\n",
    "import torch\n",
    "import torch.nn as nn\n",
    "import torch.nn.functional as F\n",
    "\n",
    "from dataset import KSponSpeechDataset, DataCollate\n",
    "from torch.utils.data import DataLoader\n",
    "from jamo import n_symbols, text_to_tokens, tokens_to_text"
   ]
  },
  {
   "cell_type": "markdown",
   "id": "e9b10b69",
   "metadata": {},
   "source": [
    "### Dataset"
   ]
  },
  {
   "cell_type": "code",
   "execution_count": 3,
   "id": "41539435",
   "metadata": {},
   "outputs": [
    {
     "name": "stdout",
     "output_type": "stream",
     "text": [
      "622545\n",
      "<torch.utils.data.dataloader.DataLoader object at 0x7f06b4c0caf0>\n"
     ]
    }
   ],
   "source": [
    "dataset = KSponSpeechDataset(root_dir='/data/KsponSpeech')\n",
    "train_loader = DataLoader(dataset, num_workers=8, shuffle=True, batch_size=64, collate_fn=DataCollate())\n",
    "print(train_loader)"
   ]
  },
  {
   "cell_type": "markdown",
   "id": "66d906c3",
   "metadata": {},
   "source": [
    "### Model"
   ]
  },
  {
   "cell_type": "code",
   "execution_count": 4,
   "id": "f96dbe8e",
   "metadata": {},
   "outputs": [],
   "source": [
    "class Encoder(nn.Module):\n",
    "    def __init__(self, in_channels, hidden_channels, out_channels, min_width=4):\n",
    "        super().__init__()\n",
    "        self.in_layer = nn.Sequential(nn.Conv1d(in_channels, hidden_channels, kernel_size=3, padding=1),\n",
    "                                      nn.BatchNorm1d(hidden_channels),\n",
    "                                      nn.ReLU())\n",
    "        self.lstm1 = nn.LSTM(hidden_channels, hidden_channels//2, batch_first=True, bidirectional=True)\n",
    "        self.lstm2 = nn.LSTM(hidden_channels*2, hidden_channels//2, batch_first=True, bidirectional=True)\n",
    "        self.lstm3 = nn.LSTM(hidden_channels*2, hidden_channels//2, batch_first=True, bidirectional=True)\n",
    "        self.out_layer = nn.Linear(hidden_channels, out_channels)\n",
    "        self.hidden_channels = hidden_channels\n",
    "        self.min_width = min_width\n",
    "        \n",
    "    def forward(self, x):\n",
    "        b, t, _ = x.size()\n",
    "        \n",
    "        pad_length = ((t - 1) // self.min_width + 1) * self.min_width - t\n",
    "        x = F.pad(x, (0, 0, 0, pad_length))\n",
    "        \n",
    "        # x : (batch, time, channel)\n",
    "        y = self.in_layer(x.transpose(1, 2)).transpose(1, 2)\n",
    "        \n",
    "        # (batch, time, channel)\n",
    "        y, _ = self.lstm1(y)\n",
    "        # (batch, time/2, channel)\n",
    "        y = y.reshape(b, y.size(1)//2, self.hidden_channels*2)\n",
    "        \n",
    "        # (batch, time/2, channel)\n",
    "        y, _ = self.lstm2(y)\n",
    "        # (batch, time/4, channel)\n",
    "        y = y.reshape(b, y.size(1)//2, self.hidden_channels*2)\n",
    "        \n",
    "        # (batch, time/4, channel)\n",
    "        y, _ = self.lstm3(y)\n",
    "        y = self.out_layer(y)\n",
    "        \n",
    "        return y\n",
    "        "
   ]
  },
  {
   "cell_type": "code",
   "execution_count": 5,
   "id": "ad21823b",
   "metadata": {},
   "outputs": [],
   "source": [
    "import numpy as np\n",
    "\n",
    "class Decoder(nn.Module):\n",
    "    def __init__(self, n_symbols, embedding_channels, hidden_channels, encoded_channels):\n",
    "        super().__init__()\n",
    "        self.embedding = nn.Embedding(n_symbols, embedding_channels)\n",
    "        self.in_layer = nn.Sequential(nn.Linear(embedding_channels, hidden_channels),\n",
    "                                      nn.ReLU(),\n",
    "                                      nn.Linear(hidden_channels, hidden_channels))\n",
    "        self.lstm1 = nn.LSTMCell(hidden_channels, hidden_channels)\n",
    "        self.lstm2 = nn.LSTMCell(hidden_channels+encoded_channels, hidden_channels)\n",
    "        self.out_layer = nn.Linear(hidden_channels, n_symbols)\n",
    "        self.W = nn.Parameter(torch.randn(1, hidden_channels, encoded_channels))\n",
    "        self.encoded_channels = encoded_channels\n",
    "    \n",
    "    def _get_attention_context(self, s, h):\n",
    "        # s : (batch, hidden)\n",
    "        # h : (batch, length, encoded)\n",
    "        \n",
    "        # (batch, 1, length) = (batch, 1, hidden) @ (1, hidden, encoded) @ (batch, encoded, length)\n",
    "        score = s.unsqueeze(1) @ self.W @ h.transpose(1, 2)\n",
    "        score = score / np.sqrt(self.encoded_channels)\n",
    "        # (batch, 1, length)\n",
    "        weight = score.softmax(dim=2)\n",
    "        # (batch, 1, encoded)\n",
    "        context = weight @ h\n",
    "        \n",
    "        # (batch, encoded)\n",
    "        return context[:, 0], weight[:, 0]\n",
    "        \n",
    "        \n",
    "    def forward(self, x, h):\n",
    "        # x : (batch, time, channel)\n",
    "        # h : (batch, length, channel)\n",
    "        \n",
    "        x = self.embedding(x)\n",
    "        x = self.in_layer(x)\n",
    "        state1 = None # (hidden, cell)\n",
    "        state2 = None # (hidden, cell)\n",
    "        outputs = []\n",
    "        alignments = []\n",
    "        for t in range(x.size(1)):\n",
    "            # (hidden, cell)\n",
    "            state1 = self.lstm1(x[:, t], state1)\n",
    "            # (batch, encoded)\n",
    "            context, weight = self._get_attention_context(state1[0], h)\n",
    "            alignments.append(weight)\n",
    "            # (hidden, cell)\n",
    "            state2 = self.lstm2(torch.cat([state1[0], context], dim=1), state2)\n",
    "            outputs.append(state2[0])\n",
    "            \n",
    "        # (batch, time, channel)\n",
    "        outputs = torch.stack(outputs, dim=1)\n",
    "        # (batch, length, time)\n",
    "        alignments = torch.stack(alignments, dim=2)\n",
    "        x = self.out_layer(outputs)\n",
    "        \n",
    "        return x, alignments\n",
    "    \n",
    "    def inference(self, h):\n",
    "        # h : (1, length, channel)\n",
    "        tokens = torch.zeros(size=(1, 1)).long().to(h.device)\n",
    "        \n",
    "        state1 = None\n",
    "        state2 = None\n",
    "        alignments = []\n",
    "        logprob = 0\n",
    "        for _ in range(1000):\n",
    "            x = tokens[:, -1]\n",
    "            x = self.embedding(x)\n",
    "            x = self.in_layer(x)\n",
    "            state1 = self.lstm1(x, state1)\n",
    "            context, weight = self._get_attention_context(state1[0], h)\n",
    "            alignments.append(weight)\n",
    "            state2 = self.lstm2(torch.cat([state1[0], context], dim=1), state2)\n",
    "            logit = self.out_layer(state2[0])\n",
    "            token = torch.distributions.categorical.Categorical(logits=logit).sample().to(h.device)\n",
    "            logprob += logit.log_softmax(dim=1)[0, token[0].item()].item()\n",
    "            tokens = torch.cat([tokens, token.unsqueeze(0)], dim=1)\n",
    "            if token[0].item() == 0:\n",
    "                break\n",
    "            \n",
    "        alignments = torch.stack(alignments, dim=2)\n",
    "            \n",
    "        return tokens, alignments, logprob\n",
    "    \n",
    "    def beam_search(self, h, beam_size=10):\n",
    "        tokens = torch.zeros(size=(1, 1)).long().to(h.device)\n",
    "        \n",
    "        # (tokens, state1, state2, alignments, log_prob, end)\n",
    "        beam_list = [(tokens, None, None, [], 0, False)]\n",
    "        beam_lists = []\n",
    "        for _ in range(1000):\n",
    "            new_beam_list = []\n",
    "            beam_lists.append(beam_list)\n",
    "            for beam in beam_list:\n",
    "                tokens, state1, state2, alignments, log_prob, end = beam\n",
    "                if end:\n",
    "                    new_beam_list.append(beam)\n",
    "                    continue\n",
    "                    \n",
    "                x = tokens[:, -1]\n",
    "                x = self.embedding(x)\n",
    "                x = self.in_layer(x)\n",
    "                state1 = self.lstm1(x, state1)\n",
    "                context, weight = self._get_attention_context(state1[0], h)\n",
    "                alignments.append(weight)\n",
    "                state2 = self.lstm2(torch.cat([state1[0], context], dim=1), state2)\n",
    "                # (1, n_symbols)\n",
    "                logits = self.out_layer(state2[0])\n",
    "                # (1, n_symbols)\n",
    "                new_log_probs = logits.log_softmax(dim=1)\n",
    "                # (1, beam_size), (1, beam_size)\n",
    "                new_log_probs, indexes = new_log_probs.topk(beam_size, dim=1)\n",
    "                for i in range(new_log_probs.size(1)):\n",
    "                    new_tokens = torch.cat([tokens, indexes[:, i:i+1]], dim=1)\n",
    "                    new_log_prob = log_prob + new_log_probs[0, i].item()\n",
    "                    if indexes[0, i].item() == 0:\n",
    "                        end = True\n",
    "                    new_beam_list.append((new_tokens, state1, state2, alignments, new_log_prob, end))\n",
    "            \n",
    "            new_beam_list = sorted(new_beam_list, key=lambda x:x[4] / x[0].size(1), reverse=True)\n",
    "            beam_list = new_beam_list[:beam_size]\n",
    "            \n",
    "            all_end = True\n",
    "            for beam in beam_list:\n",
    "                all_end = all_end and beam[5]\n",
    "            if all_end:\n",
    "                break\n",
    "        \n",
    "        return beam_list, beam_lists\n",
    "                    "
   ]
  },
  {
   "cell_type": "code",
   "execution_count": 6,
   "id": "fc560f74",
   "metadata": {},
   "outputs": [],
   "source": [
    "class LAS(nn.Module):\n",
    "    def __init__(self, mel_channels, \n",
    "                       encoder_hidden_channels,\n",
    "                       encoder_output_channels,\n",
    "                       n_symbols,\n",
    "                       embedding_channels,\n",
    "                       decoder_hidden_channels):\n",
    "                      \n",
    "        super().__init__()\n",
    "        self.encoder = Encoder(mel_channels, encoder_hidden_channels, encoder_output_channels)\n",
    "        self.decoder = Decoder(n_symbols, embedding_channels, decoder_hidden_channels, encoder_output_channels)\n",
    "        \n",
    "    def forward(self, x, y):\n",
    "        # x : (batch, time, mel_channels)\n",
    "        # y : (batch, length)\n",
    "        \n",
    "        h = self.encoder(x)\n",
    "        out, alignments = self.decoder(y, h)\n",
    "        \n",
    "        return out, alignments\n",
    "    \n",
    "    def inference(self, x):\n",
    "        # x : (batch, time, mel_channels)\n",
    "        h = self.encoder(x)\n",
    "        out, alignments, logprob = self.decoder.inference(h)\n",
    "        \n",
    "        return out, alignments, logprob\n",
    "    \n",
    "    def beam_search(self, x, beam_size=10):\n",
    "        # x : (batch, time, mel_channels)\n",
    "        h = self.encoder(x)\n",
    "        beam_list, beam_lists = self.decoder.beam_search(h, beam_size=beam_size)\n",
    "        \n",
    "        return beam_list, beam_lists\n",
    "        "
   ]
  },
  {
   "cell_type": "markdown",
   "id": "5d4e522f",
   "metadata": {},
   "source": [
    "### Logger"
   ]
  },
  {
   "cell_type": "code",
   "execution_count": 7,
   "id": "146f85ea",
   "metadata": {},
   "outputs": [],
   "source": [
    "from utils import sizeof_fmt, Logger"
   ]
  },
  {
   "cell_type": "code",
   "execution_count": 8,
   "id": "0ec22f9a",
   "metadata": {},
   "outputs": [
    {
     "name": "stdout",
     "output_type": "stream",
     "text": [
      "mkdir: cannot create directory ‘save’: File exists\n",
      "<utils.Logger object at 0x7f069eef78e0>\n"
     ]
    }
   ],
   "source": [
    "!mkdir save\n",
    "save_dir = 'save/las_lstm_kspon'\n",
    "logger = Logger(save_dir=save_dir, new=False)\n",
    "print(logger)"
   ]
  },
  {
   "cell_type": "code",
   "execution_count": 9,
   "id": "5fbb7d90",
   "metadata": {},
   "outputs": [
    {
     "name": "stdout",
     "output_type": "stream",
     "text": [
      "save_0\t    save_15000\tsave_25000  save_30711\r\n",
      "save_10000  save_20000\tsave_30000  save_5000\r\n"
     ]
    }
   ],
   "source": [
    "!ls $save_dir"
   ]
  },
  {
   "cell_type": "markdown",
   "id": "2e081a26",
   "metadata": {},
   "source": [
    "### Init Model"
   ]
  },
  {
   "cell_type": "code",
   "execution_count": 10,
   "id": "591e9e82",
   "metadata": {},
   "outputs": [
    {
     "name": "stdout",
     "output_type": "stream",
     "text": [
      "Model size 51.8MiB\n",
      "loaded : 30711\n",
      "loaded 30711\n"
     ]
    }
   ],
   "source": [
    "model = LAS(mel_channels=80, \n",
    "           encoder_hidden_channels=512,\n",
    "           encoder_output_channels=512,\n",
    "           n_symbols=n_symbols,\n",
    "           embedding_channels=512,\n",
    "           decoder_hidden_channels=512)\n",
    "\n",
    "model = model.cuda()\n",
    "step = 30711\n",
    "\n",
    "size = sizeof_fmt(4 * sum(p.numel() for p in model.parameters()))\n",
    "print(f\"Model size {size}\")\n",
    "\n",
    "optimizer = torch.optim.Adam(model.parameters(), lr=1e-4, weight_decay=1e-5)\n",
    "\n",
    "if True:\n",
    "    model, optimizer, step = logger.load(step, model, optimizer)\n",
    "    print('loaded', step)"
   ]
  },
  {
   "cell_type": "code",
   "execution_count": 11,
   "id": "c910568a",
   "metadata": {},
   "outputs": [],
   "source": [
    "def to_cuda(batch):\n",
    "    batch['audio'] = batch['audio'].cuda()\n",
    "    batch['audio_lengths'] = batch['audio_lengths'].cuda()\n",
    "    batch['text'] = F.pad(batch['text'].cuda(), (1, 1))\n",
    "    batch['text_lengths'] = batch['text_lengths'].cuda() + 2\n",
    "    \n",
    "    return batch"
   ]
  },
  {
   "cell_type": "markdown",
   "id": "8e69e9b7",
   "metadata": {},
   "source": [
    "### Train"
   ]
  },
  {
   "cell_type": "code",
   "execution_count": 18,
   "id": "8405c4d1",
   "metadata": {
    "scrolled": true
   },
   "outputs": [
    {
     "data": {
      "image/png": "[encoded data removed]",
      "text/plain": [
       "<Figure size 1296x216 with 3 Axes>"
      ]
     },
     "metadata": {
      "needs_background": "light"
     },
     "output_type": "display_data"
    },
    {
     "name": "stdout",
     "output_type": "stream",
     "text": [
      "ground truth : \u0000오 대박이다. 나도 스위스 간 적 있거든?\u0000\u0000\u0000\u0000\u0000\u0000\u0000\u0000\u0000\u0000\u0000\u0000\u0000\u0000\u0000\u0000\u0000\u0000\u0000\u0000\u0000\u0000\u0000\u0000\u0000\u0000\u0000\u0000\u0000\u0000\u0000\u0000\u0000\u0000\u0000\u0000\u0000\u0000\u0000\u0000\u0000\u0000\u0000\u0000\u0000\u0000\u0000\u0000\u0000\u0000\u0000\u0000\u0000\u0000\u0000\u0000\u0000\u0000\u0000\u0000\u0000\u0000\u0000\u0000\u0000\u0000\u0000\u0000\u0000\u0000\u0000\u0000\u0000\u0000\u0000\u0000\u0000\u0000\u0000\u0000\u0000\u0000\u0000\u0000\u0000\u0000\u0000\u0000\u0000\n",
      "beam search\n",
      "\u0000오 대박이다. 나도 스에스 간 적이 있거든?\u0000 -5.331748947733786\n",
      "\u0000오 대박이다. 나도 스에스 간적이 있거든?\u0000 -5.273309580356198\n",
      "\u0000오 대박이다. 나도 스위스 간적이 있거든?\u0000 -5.474907666925191\n",
      "\u0000오 대박이다. 나도 스에스 간 적이 있거든.\u0000 -5.698828134452697\n",
      "\u0000오 대박이다. 나도 스에스 간적이 있거든.\u0000 -5.645561967583689\n"
     ]
    }
   ],
   "source": [
    "from IPython import display\n",
    "import librosa.display\n",
    "import matplotlib.pyplot as plt\n",
    "\n",
    "stop = True\n",
    "while True:\n",
    "    for batch in train_loader:\n",
    "        batch = to_cuda(batch)\n",
    "        model.train()\n",
    "        model.zero_grad()\n",
    "        logits, alignments = model(batch['audio'], batch['text'])\n",
    "        loss = nn.CrossEntropyLoss()(logits[:, :-1].transpose(1, 2), batch['text'][:, 1:])\n",
    "        loss.backward()\n",
    "        optimizer.step()\n",
    "        \n",
    "        print(step, loss.item())\n",
    "        \n",
    "        if step % 5000 == 0:\n",
    "            logger.save(step, model, optimizer)\n",
    "            \n",
    "        if step % 100 == 0:\n",
    "            display.clear_output()\n",
    "            \n",
    "            _alignment = alignments.data.cpu().numpy()\n",
    "            plt.figure(figsize=[18, 3])\n",
    "            plt.title('Attention Alignments')\n",
    "            for i in range(3):\n",
    "                plt.subplot(1, 3, i+1)\n",
    "                plt.imshow(_alignment[i].T, aspect='auto', origin='lower', interpolation='none')\n",
    "            plt.show()\n",
    "            \n",
    "            text = tokens_to_text(batch['text'][0].data.cpu().numpy())\n",
    "            print('ground truth :', text)\n",
    "            \n",
    "            print('beam search')\n",
    "            model.eval()\n",
    "            with torch.no_grad():\n",
    "                beam_list, beam_lists = model.beam_search(batch['audio'][0:1], beam_size=5)\n",
    "                for beam in beam_list:\n",
    "                    text = tokens_to_text(beam[0][0].data.cpu().numpy())\n",
    "                    score = beam[4]\n",
    "                    print(text, score)\n",
    "                    \n",
    "            if stop:\n",
    "                break\n",
    "                \n",
    "        step += 1\n",
    "        \n",
    "    if stop:\n",
    "        break"
   ]
  },
  {
   "cell_type": "code",
   "execution_count": 28,
   "id": "3c5245ab",
   "metadata": {},
   "outputs": [
    {
     "name": "stdout",
     "output_type": "stream",
     "text": [
      "saved save/las_lstm_kspon/save_30711\n"
     ]
    }
   ],
   "source": [
    "logger.save(step, model, optimizer)"
   ]
  }
 ],
 "metadata": {
  "kernelspec": {
   "display_name": "Python 3",
   "language": "python",
   "name": "python3"
  },
  "language_info": {
   "codemirror_mode": {
    "name": "ipython",
    "version": 3
   },
   "file_extension": ".py",
   "mimetype": "text/x-python",
   "name": "python",
   "nbconvert_exporter": "python",
   "pygments_lexer": "ipython3",
   "version": "3.8.8"
  }
 },
 "nbformat": 4,
 "nbformat_minor": 5
}
